{
 "cells": [
  {
   "cell_type": "code",
   "execution_count": 1,
   "metadata": {},
   "outputs": [],
   "source": [
    "import os\n",
    "import numpy as np\n",
    "import tensorflow as tf\n",
    "from tensorflow import keras\n",
    "from keras import layers, utils, models, callbacks as cb\n",
    "from keras.utils.vis_utils import plot_model"
   ]
  },
  {
   "cell_type": "code",
   "execution_count": 2,
   "metadata": {},
   "outputs": [
    {
     "name": "stdout",
     "output_type": "stream",
     "text": [
      "Found 35 files belonging to 2 classes.\n",
      "Using 28 files for training.\n"
     ]
    }
   ],
   "source": [
    "image_size = (671, 471)\n",
    "batch_size = 10\n",
    "\n",
    "train_ds = tf.keras.preprocessing.image_dataset_from_directory(\n",
    "    \"training\",\n",
    "    validation_split=0.2,\n",
    "    subset=\"training\",\n",
    "    image_size=image_size,\n",
    "    batch_size=batch_size,\n",
    "    labels=\"inferred\",\n",
    "    class_names=[\"forged\", \"genuine\"],\n",
    "    label_mode=\"binary\",\n",
    "    seed = 3301\n",
    ")\n",
    "\n",
    "train_ds = train_ds.prefetch(buffer_size=10)"
   ]
  },
  {
   "cell_type": "code",
   "execution_count": 3,
   "metadata": {},
   "outputs": [],
   "source": [
    "# import matplotlib.pyplot as plt\n",
    "# plt.figure(figsize=(15, 25))\n",
    "# for images, labels in train_ds.take(1):\n",
    "#     for i in range(9):\n",
    "#         ax = plt.subplot(3, 3, i + 1)\n",
    "#         plt.imshow(images[i].numpy().astype(\"uint8\"))\n",
    "#         plt.title(int(labels[i]))\n",
    "#         plt.axis(\"off\")\n"
   ]
  },
  {
   "cell_type": "code",
   "execution_count": 4,
   "metadata": {},
   "outputs": [],
   "source": [
    "\n",
    "# def make_model(input_shape, num_classes):\n",
    "#     inputs = keras.Input(shape=input_shape)\n",
    "#     # Image augmentation block\n",
    "#     data_augmentation = keras.Sequential(\n",
    "#         [\n",
    "#             layers.RandomFlip(\"horizontal\"),\n",
    "#             layers.RandomRotation(0.1),\n",
    "#         ]\n",
    "#     )\n",
    "#     x = data_augmentation(inputs)\n",
    "\n",
    "#        # Entry block\n",
    "#     x = layers.Rescaling(1.0 / 255)(x)\n",
    "#     x = layers.Conv2D(32, 3, strides=2, padding=\"same\")(x)\n",
    "#     x = layers.BatchNormalization()(x)\n",
    "#     x = layers.Activation(\"relu\")(x)\n",
    "\n",
    "#     x = layers.Conv2D(64, 3, padding=\"same\")(x)\n",
    "#     x = layers.BatchNormalization()(x)\n",
    "#     x = layers.Activation(\"relu\")(x)\n",
    "\n",
    "#     previous_block_activation = x  # Set aside residual\n",
    "\n",
    "#     for size in [128, 256, 512, 728]:\n",
    "#         x = layers.Activation(\"relu\")(x)\n",
    "#         x = layers.SeparableConv2D(size, 3, padding=\"same\")(x)\n",
    "#         x = layers.BatchNormalization()(x)\n",
    "\n",
    "#         x = layers.Activation(\"relu\")(x)\n",
    "#         x = layers.SeparableConv2D(size, 3, padding=\"same\")(x)\n",
    "#         x = layers.BatchNormalization()(x)\n",
    "\n",
    "#         x = layers.MaxPooling2D(3, strides=2, padding=\"same\")(x)\n",
    "\n",
    "#         # Project residual\n",
    "#         residual = layers.Conv2D(size, 1, strides=2, padding=\"same\")(\n",
    "#             previous_block_activation\n",
    "#         )\n",
    "#         x = layers.add([x, residual])  # Add back residual\n",
    "#         previous_block_activation = x  # Set aside next residual\n",
    "\n",
    "#     x = layers.SeparableConv2D(1024, 3, padding=\"same\")(x)\n",
    "#     x = layers.BatchNormalization()(x)\n",
    "#     x = layers.Activation(\"relu\")(x)\n",
    "\n",
    "#     x = layers.GlobalAveragePooling2D()(x)\n",
    "#     if num_classes == 2:\n",
    "#         activation = \"sigmoid\"\n",
    "#         units = 1\n",
    "#     else:\n",
    "#         activation = \"softmax\"\n",
    "#         units = num_classes\n",
    "\n",
    "#     x = layers.Dropout(0.5)(x)\n",
    "#     outputs = layers.Dense(units, activation=activation)(x)\n",
    "#     return keras.Model(inputs, outputs)\n",
    "\n",
    "# model = make_model(input_shape=image_size + (3,), num_classes=2)\n",
    "# # keras.utils.plot_model(model, show_shapes=True)"
   ]
  },
  {
   "cell_type": "code",
   "execution_count": 5,
   "metadata": {},
   "outputs": [],
   "source": [
    "def make_model(input_shape, num_classes):\n",
    "    return keras.Sequential(\n",
    "        [\n",
    "            keras.Input(shape=input_shape),\n",
    "            layers.Conv2D(32, kernel_size=(3, 3), activation=\"relu\"),\n",
    "            layers.MaxPooling2D(pool_size=(2, 2)),\n",
    "            layers.Conv2D(64, kernel_size=(3, 3), activation=\"relu\"),\n",
    "            layers.MaxPooling2D(pool_size=(2, 2)),\n",
    "            layers.Flatten(),\n",
    "            layers.Dropout(0.2),\n",
    "            layers.Dense(1, activation=\"sigmoid\"),\n",
    "        ]\n",
    "    )\n",
    "\n",
    "\n",
    "model = make_model(input_shape=image_size + (3,), num_classes=2)\n"
   ]
  },
  {
   "cell_type": "code",
   "execution_count": 6,
   "metadata": {},
   "outputs": [
    {
     "name": "stdout",
     "output_type": "stream",
     "text": [
      "Epoch 1/25\n",
      "3/3 [==============================] - 7s 539ms/step - loss: 0.4862 - binary_accuracy: 0.5357\n",
      "Epoch 2/25\n",
      "3/3 [==============================] - 0s 128ms/step - loss: 0.1146 - binary_accuracy: 1.0000\n",
      "Epoch 3/25\n",
      "3/3 [==============================] - 0s 134ms/step - loss: 0.1698 - binary_accuracy: 0.9643\n",
      "Epoch 4/25\n",
      "3/3 [==============================] - 0s 119ms/step - loss: 0.0382 - binary_accuracy: 0.9643\n",
      "Epoch 5/25\n",
      "3/3 [==============================] - 0s 123ms/step - loss: 0.0163 - binary_accuracy: 1.0000\n",
      "Epoch 6/25\n",
      "3/3 [==============================] - 0s 154ms/step - loss: 0.0040 - binary_accuracy: 1.0000\n",
      "Epoch 7/25\n",
      "3/3 [==============================] - 0s 122ms/step - loss: 1.5740e-04 - binary_accuracy: 1.0000\n",
      "Epoch 8/25\n",
      "3/3 [==============================] - 0s 114ms/step - loss: 5.3534e-06 - binary_accuracy: 1.0000\n",
      "Epoch 9/25\n",
      "3/3 [==============================] - 0s 99ms/step - loss: 4.7379e-04 - binary_accuracy: 1.0000\n",
      "Epoch 10/25\n",
      "3/3 [==============================] - 1s 330ms/step - loss: 4.6299e-04 - binary_accuracy: 1.0000\n",
      "Epoch 11/25\n",
      "3/3 [==============================] - 0s 142ms/step - loss: 8.0879e-06 - binary_accuracy: 1.0000\n",
      "Epoch 12/25\n",
      "3/3 [==============================] - 0s 124ms/step - loss: 4.0771e-07 - binary_accuracy: 1.0000\n",
      "Epoch 13/25\n",
      "3/3 [==============================] - 1s 248ms/step - loss: 7.9599e-08 - binary_accuracy: 1.0000\n",
      "Epoch 14/25\n",
      "3/3 [==============================] - 0s 114ms/step - loss: 7.6404e-08 - binary_accuracy: 1.0000\n",
      "Epoch 15/25\n",
      "3/3 [==============================] - 0s 130ms/step - loss: 8.4404e-08 - binary_accuracy: 1.0000\n",
      "Epoch 16/25\n",
      "3/3 [==============================] - 0s 164ms/step - loss: 1.0235e-07 - binary_accuracy: 1.0000\n",
      "Epoch 17/25\n",
      "3/3 [==============================] - 0s 123ms/step - loss: 1.2728e-07 - binary_accuracy: 1.0000\n",
      "Epoch 18/25\n",
      "3/3 [==============================] - 0s 102ms/step - loss: 1.4805e-07 - binary_accuracy: 1.0000\n",
      "Epoch 19/25\n",
      "3/3 [==============================] - 0s 123ms/step - loss: 1.6467e-07 - binary_accuracy: 1.0000\n",
      "Epoch 20/25\n",
      "3/3 [==============================] - 1s 365ms/step - loss: 1.7859e-07 - binary_accuracy: 1.0000\n",
      "Epoch 21/25\n",
      "3/3 [==============================] - 0s 107ms/step - loss: 1.8726e-07 - binary_accuracy: 1.0000\n",
      "Epoch 22/25\n",
      "3/3 [==============================] - 1s 343ms/step - loss: 1.9847e-07 - binary_accuracy: 1.0000\n",
      "Epoch 23/25\n",
      "3/3 [==============================] - 0s 121ms/step - loss: 2.0441e-07 - binary_accuracy: 1.0000\n",
      "Epoch 24/25\n",
      "3/3 [==============================] - 0s 125ms/step - loss: 2.0853e-07 - binary_accuracy: 1.0000\n",
      "Epoch 25/25\n",
      "3/3 [==============================] - 1s 378ms/step - loss: 2.1252e-07 - binary_accuracy: 1.0000\n"
     ]
    },
    {
     "data": {
      "text/plain": [
       "<keras.callbacks.History at 0x1dc8ec6c760>"
      ]
     },
     "execution_count": 6,
     "metadata": {},
     "output_type": "execute_result"
    }
   ],
   "source": [
    "epochs = 25\n",
    "\n",
    "callbacks = [\n",
    "    keras.callbacks.ModelCheckpoint(\"saves/{epoch}.h5\"),\n",
    "    keras.callbacks.TensorBoard(log_dir=\"./logs\"),\n",
    "]\n",
    "\n",
    "model.compile(\n",
    "    optimizer=\"adam\",\n",
    "    loss=\"binary_crossentropy\",\n",
    "    metrics=[\"binary_accuracy\"],\n",
    ")\n",
    "\n",
    "model.fit(\n",
    "    train_ds,\n",
    "    epochs=epochs,\n",
    "    callbacks=callbacks,\n",
    "    # validation_data=val_ds,\n",
    ")\n"
   ]
  },
  {
   "cell_type": "code",
   "execution_count": 7,
   "metadata": {},
   "outputs": [],
   "source": [
    "model.save(\"thing100.h5\")"
   ]
  },
  {
   "cell_type": "code",
   "execution_count": 8,
   "metadata": {
    "tags": []
   },
   "outputs": [],
   "source": [
    "# ##### plotting the model\n",
    "\n",
    "# plot_model(model, to_file='model_plot.png', show_shapes=True, show_layer_names=True)\n",
    "\n",
    "# # tf.keras.utils.plot_model(\n",
    "# #     model,\n",
    "# #     to_file='model.png',\n",
    "# #     show_shapes=False,\n",
    "# #     show_dtype=False,\n",
    "# #     show_layer_names=True,\n",
    "# #     rankdir='TB',\n",
    "# #     expand_nested=False,\n",
    "# #     dpi=96,\n",
    "# #     layer_range=None,\n",
    "# #     show_layer_activations=False\n",
    "# # )"
   ]
  }
 ],
 "metadata": {
  "kernelspec": {
   "display_name": "Python 3.9.13 64-bit (microsoft store)",
   "language": "python",
   "name": "python3"
  },
  "language_info": {
   "codemirror_mode": {
    "name": "ipython",
    "version": 3
   },
   "file_extension": ".py",
   "mimetype": "text/x-python",
   "name": "python",
   "nbconvert_exporter": "python",
   "pygments_lexer": "ipython3",
   "version": "3.9.13"
  },
  "orig_nbformat": 4,
  "vscode": {
   "interpreter": {
    "hash": "8dd6c597a8792c9ccfb7150262fecf4787dd3bb8fdd1b3a793a20b754922f4d4"
   }
  }
 },
 "nbformat": 4,
 "nbformat_minor": 2
}
