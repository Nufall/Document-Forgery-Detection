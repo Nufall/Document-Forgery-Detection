{
 "cells": [
  {
   "cell_type": "code",
   "execution_count": 1,
   "metadata": {},
   "outputs": [],
   "source": [
    "import os\n",
    "import numpy as np\n",
    "import tensorflow as tf\n",
    "from tensorflow import keras\n",
    "import matplotlib.pyplot as plt\n",
    "from keras import layers, utils, models, callbacks as cb\n",
    "from sklearn.metrics import ConfusionMatrixDisplay, confusion_matrix"
   ]
  },
  {
   "cell_type": "code",
   "execution_count": 2,
   "metadata": {},
   "outputs": [
    {
     "name": "stdout",
     "output_type": "stream",
     "text": [
      "e:\\University\\Semester 6\\Grad\\forgery detection\\forgery detection neural network\\datasets\\midv-2020-scanned\\experiment 2\\logs\\models\n"
     ]
    }
   ],
   "source": [
    "root = os.getcwd()\n",
    "logroot = os.path.join(root,'datasets','midv-2020-scanned','experiment 2' ,'logs', 'models')\n",
    "print(logroot)\n",
    "datasets = (r'E:\\University\\Semester 6\\Grad\\forgery detection\\forgery detection neural network\\datasets\\midv-2020-scanned\\experiment 2\\validation')"
   ]
  },
  {
   "cell_type": "code",
   "execution_count": 3,
   "metadata": {},
   "outputs": [
    {
     "name": "stdout",
     "output_type": "stream",
     "text": [
      "Found 30 files belonging to 2 classes.\n",
      "(30, 948123)\n",
      "(30,)\n"
     ]
    }
   ],
   "source": [
    "batch_size = 16\n",
    "image_size = (671, 471)\n",
    "\n",
    "def gen_data_set(val_path, reshape_data: bool = False, use_categorical: bool = False):\n",
    "    val = tf.keras.preprocessing.image_dataset_from_directory(\n",
    "        val_path,\n",
    "        image_size=image_size,\n",
    "        batch_size=1,\n",
    "        labels=\"inferred\",\n",
    "        class_names=[\"forged\", \"genuine\"],\n",
    "        label_mode=\"binary\",\n",
    "        shuffle=False\n",
    "    )\n",
    "    \n",
    "    xxtest = []\n",
    "    yytest = []\n",
    "    \n",
    "    for xtest, ytest in val:\n",
    "        xxtest.append(xtest[0].numpy())\n",
    "        yytest.append(ytest[0][0].numpy())\n",
    "\n",
    "\n",
    "    x, y = np.array(xxtest), np.array(yytest)\n",
    "    \n",
    "    if reshape_data:\n",
    "        nsamples, nx, ny, nz = x.shape\n",
    "        x = x.reshape((nsamples, nx * ny * nz))\n",
    "\n",
    "    return x, y\n",
    "\n",
    "\n",
    "tx, ty = gen_data_set((r'E:\\University\\Semester 6\\Grad\\forgery detection\\forgery detection neural network\\datasets\\midv-2020-scanned\\experiment 2\\training'), reshape_data=True)\n",
    "\n",
    "print(tx.shape)\n",
    "print(ty.shape)"
   ]
  },
  {
   "cell_type": "code",
   "execution_count": null,
   "metadata": {},
   "outputs": [],
   "source": [
    "\n",
    "\n",
    "# def eval_model(modelname: str, model, reshape_data: bool = False, use_categorical: bool = False,error_rate: dict[str,list[float]] = None):\n",
    "#     scores = []\n",
    "#     logpath = os.path.join(logroot, f'{modelname}.txt')\n",
    "\n",
    "#     for doctype in os.listdir(datasets):\n",
    "#         if doctype == \"srb_passport\":\n",
    "#             continue\n",
    "\n",
    "#         docpath = os.path.join(datasets, doctype)\n",
    "#         valpath = os.path.join(docpath, 'validation')\n",
    "#         outpath = os.path.join(docpath, f'evaluation_matrix_{modelname}.png')\n",
    "        \n",
    "#         if error_rate is not None and doctype not in error_rate:\n",
    "#             error_rate[doctype] = []\n",
    "\n",
    "\n",
    "#         vx, vy = gen_data_set(valpath, reshape_data=reshape_data)\n",
    "#         vpy = model.predict(vx)\n",
    "        \n",
    "#         try:\n",
    "#             result =  confusion_matrix(vy, vpy)\n",
    "#             disp = ConfusionMatrixDisplay(confusion_matrix=result, display_labels=[\"forged\", \"genuine\"])\n",
    "#             disp.plot(cmap=plt.cm.Blues)\n",
    "#             disp.figure_.savefig(outpath)\n",
    "#         except ValueError as err:\n",
    "#             print(f'Encountered an error while generating confusion matrix for {modelname}.')\n",
    "#             print(err)\n",
    "\n",
    "#         if modelname.startswith(\"elbow\"):\n",
    "#             error_rate[doctype].append(np.mean(vpy != vy))\n",
    "#         if hasattr(model, 'score'):\n",
    "#             accuracy = model.score(vx, vy)\n",
    "#             scores.append(f'{modelname} scored {accuracy:.2%} on {doctype}\\n')\n",
    "        \n",
    "#         if hasattr(model, 'evaluate'):\n",
    "#             metrics = model.evaluate(vx, vy, return_dict=True)\n",
    "#             accurary = metrics['binary_accuracy']\n",
    "#             scores.append(f'{modelname} scored {accuracy:.2%} on {doctype}\\n')\n",
    "\n",
    "#     with open(logpath,'w') as file:\n",
    "#         for score in scores:\n",
    "#             file.write(score+'\\n')\n",
    "\n",
    "    "
   ]
  },
  {
   "cell_type": "code",
   "execution_count": 4,
   "metadata": {},
   "outputs": [],
   "source": [
    "\n",
    "\n",
    "def eval_model(modelname: str, model, reshape_data: bool = False, use_categorical: bool = False,error_rate: dict[str,list[float]] = None):\n",
    "    scores = []\n",
    "    logpath = os.path.join(logroot, f'{modelname}.txt')\n",
    "\n",
    "    for doctype in [r'E:\\University\\Semester 6\\Grad\\forgery detection\\forgery detection neural network\\datasets\\midv-2020-scanned\\experiment 2']:\n",
    "        if doctype == \"srb_passport\":\n",
    "            continue\n",
    "\n",
    "        docpath = os.path.join(datasets, doctype)\n",
    "        valpath = os.path.join(docpath, 'validation')\n",
    "        outpath = os.path.join(docpath, f'evaluation_matrix_{modelname}.png')\n",
    "        \n",
    "        if error_rate is not None and doctype not in error_rate:\n",
    "            error_rate[doctype] = []\n",
    "\n",
    "\n",
    "        vx, vy = gen_data_set(valpath, reshape_data=reshape_data)\n",
    "        vpy = model.predict(vx)\n",
    "        \n",
    "        try:\n",
    "            result =  confusion_matrix(vy, vpy)\n",
    "            disp = ConfusionMatrixDisplay(confusion_matrix=result, display_labels=[\"forged\", \"genuine\"])\n",
    "            disp.plot(cmap=plt.cm.Blues)\n",
    "            disp.figure_.savefig(outpath)\n",
    "        except ValueError as err:\n",
    "            print(f'Encountered an error while generating confusion matrix for {modelname}.')\n",
    "            print(err)\n",
    "\n",
    "        if modelname.startswith(\"elbow\"):\n",
    "            error_rate[doctype].append(np.mean(vpy != vy))\n",
    "        if hasattr(model, 'score'):\n",
    "            accuracy = model.score(vx, vy)\n",
    "            scores.append(f'{modelname} scored {accuracy:.2%} on {doctype}\\n')\n",
    "        \n",
    "        if hasattr(model, 'evaluate'):\n",
    "            metrics = model.evaluate(vx, vy, return_dict=True)\n",
    "            accurary = metrics['binary_accuracy']\n",
    "            scores.append(f'{modelname} scored {accuracy:.2%} on {doctype}\\n')\n",
    "\n",
    "    with open(logpath,'w') as file:\n",
    "        for score in scores:\n",
    "            file.write(score+'\\n')\n",
    "\n",
    "    "
   ]
  },
  {
   "cell_type": "code",
   "execution_count": null,
   "metadata": {},
   "outputs": [],
   "source": [
    "print(ty)"
   ]
  },
  {
   "cell_type": "code",
   "execution_count": 5,
   "metadata": {},
   "outputs": [
    {
     "name": "stdout",
     "output_type": "stream",
     "text": [
      "Found 180 files belonging to 2 classes.\n"
     ]
    },
    {
     "data": {
      "image/png": "[encoded data removed]",
      "text/plain": [
       "<Figure size 432x288 with 2 Axes>"
      ]
     },
     "metadata": {
      "needs_background": "light"
     },
     "output_type": "display_data"
    }
   ],
   "source": [
    "from sklearn.svm import SVC\n",
    "\n",
    "svm = SVC()\n",
    "svm.fit(tx, ty)\n",
    "\n",
    "eval_model('svm', svm, reshape_data=True)\n",
    "None"
   ]
  },
  {
   "cell_type": "code",
   "execution_count": null,
   "metadata": {},
   "outputs": [],
   "source": [
    "from sklearn.neighbors import KNeighborsClassifier\n",
    "\n",
    "nn = None\n",
    "for k in reversed([1, 3, 5, 10, 15]):\n",
    "    nn = KNeighborsClassifier(n_neighbors=k)\n",
    "    nn.fit(tx, ty)\n",
    "    eval_model(f'{k}nn', nn, reshape_data=True)"
   ]
  },
  {
   "cell_type": "code",
   "execution_count": 8,
   "metadata": {},
   "outputs": [
    {
     "name": "stdout",
     "output_type": "stream",
     "text": [
      "Found 180 files belonging to 2 classes.\n"
     ]
    },
    {
     "data": {
      "image/png": "[encoded data removed]",
      "text/plain": [
       "<Figure size 432x288 with 2 Axes>"
      ]
     },
     "metadata": {
      "needs_background": "light"
     },
     "output_type": "display_data"
    }
   ],
   "source": [
    "from sklearn import tree\n",
    "\n",
    "dt = tree.DecisionTreeClassifier()\n",
    "dt = dt.fit(tx, ty)\n",
    "\n",
    "eval_model('decision_tree', dt, reshape_data=True)"
   ]
  },
  {
   "cell_type": "code",
   "execution_count": 9,
   "metadata": {},
   "outputs": [
    {
     "name": "stdout",
     "output_type": "stream",
     "text": [
      "Found 180 files belonging to 2 classes.\n"
     ]
    },
    {
     "data": {
      "image/png": "[encoded data removed]",
      "text/plain": [
       "<Figure size 432x288 with 2 Axes>"
      ]
     },
     "metadata": {
      "needs_background": "light"
     },
     "output_type": "display_data"
    }
   ],
   "source": [
    "from sklearn.naive_bayes import GaussianNB\n",
    "\n",
    "nb = GaussianNB()\n",
    "nb = nb.fit(tx, ty)\n",
    "\n",
    "eval_model('naive_bayes', nb, reshape_data=True)"
   ]
  },
  {
   "cell_type": "code",
   "execution_count": null,
   "metadata": {},
   "outputs": [],
   "source": []
  },
  {
   "cell_type": "code",
   "execution_count": 10,
   "metadata": {},
   "outputs": [
    {
     "name": "stdout",
     "output_type": "stream",
     "text": [
      "Found 180 files belonging to 2 classes.\n"
     ]
    },
    {
     "data": {
      "image/png": "[encoded data removed]",
      "text/plain": [
       "<Figure size 432x288 with 2 Axes>"
      ]
     },
     "metadata": {
      "needs_background": "light"
     },
     "output_type": "display_data"
    }
   ],
   "source": [
    "from sklearn.ensemble import AdaBoostClassifier\n",
    "\n",
    "ab = AdaBoostClassifier()\n",
    "ab = ab.fit(tx, ty)\n",
    "\n",
    "eval_model('ada_boost', ab, reshape_data=True)"
   ]
  },
  {
   "cell_type": "code",
   "execution_count": 11,
   "metadata": {},
   "outputs": [
    {
     "name": "stdout",
     "output_type": "stream",
     "text": [
      "Found 180 files belonging to 2 classes.\n"
     ]
    },
    {
     "data": {
      "image/png": "[encoded data removed]",
      "text/plain": [
       "<Figure size 432x288 with 2 Axes>"
      ]
     },
     "metadata": {
      "needs_background": "light"
     },
     "output_type": "display_data"
    }
   ],
   "source": [
    "from sklearn.ensemble import RandomForestClassifier\n",
    "\n",
    "rf = RandomForestClassifier()\n",
    "rf = rf.fit(tx, ty)\n",
    "\n",
    "eval_model('random_forest_classifier', rf, reshape_data=True)"
   ]
  },
  {
   "cell_type": "code",
   "execution_count": 12,
   "metadata": {},
   "outputs": [
    {
     "name": "stdout",
     "output_type": "stream",
     "text": [
      "Found 180 files belonging to 2 classes.\n"
     ]
    },
    {
     "data": {
      "image/png": "[encoded data removed]",
      "text/plain": [
       "<Figure size 432x288 with 2 Axes>"
      ]
     },
     "metadata": {
      "needs_background": "light"
     },
     "output_type": "display_data"
    }
   ],
   "source": [
    "from sklearn.ensemble import VotingClassifier\n",
    "\n",
    "vc = VotingClassifier(\n",
    "    estimators=[\n",
    "        ('svm', svm),\n",
    "        ('naive_bayes', nb),\n",
    "        #('knn', nn),\n",
    "        ('ada_boost', ab),\n",
    "        ('decision_tree', dt),\n",
    "        ('random_forest_classifier', rf)\n",
    "    ]\n",
    ")\n",
    "\n",
    "vc = vc.fit(tx, ty)\n",
    "eval_model('voting_classifier', vc, reshape_data=True)"
   ]
  },
  {
   "cell_type": "code",
   "execution_count": null,
   "metadata": {},
   "outputs": [],
   "source": [
    "from sklearn.neighbors import KNeighborsClassifier\n",
    "\n",
    "error_rate = {}\n",
    "nn  = None\n",
    "for i in range(1,16):\n",
    "    nn = KNeighborsClassifier(n_neighbors=i)\n",
    "    nn.fit(tx, ty)\n",
    "    eval_model(f'elbow_knn{i}', nn,  reshape_data=True,error_rate=error_rate)\n",
    "print (error_rate)"
   ]
  },
  {
   "cell_type": "code",
   "execution_count": null,
   "metadata": {},
   "outputs": [],
   "source": [
    "from sklearn.neighbors import KNeighborsClassifier\n",
    "\n",
    "# nn = None\n",
    "nn = KNeighborsClassifier(n_neighbors=1)\n",
    "nn.fit(tx, ty)\n",
    "eval_model(f'{1}knn_elbow', nn, reshape_data=True)"
   ]
  },
  {
   "cell_type": "code",
   "execution_count": null,
   "metadata": {},
   "outputs": [],
   "source": [
    "for doctype,rate in error_rate.items():\n",
    "    if len(rate) ==0:\n",
    "        continue\n",
    "\n",
    "    plt.figure(figsize=(10,6))\n",
    "    \n",
    "    plt.plot(range(1,16),rate,color='blue', linestyle='dashed', marker='o',\n",
    "    markerfacecolor='red', markersize=10)\n",
    "    plt.title(doctype)\n",
    "    plt.xlabel('K')\n",
    "    plt.ylabel('Error Rate')\n",
    "    plt.xticks(range(1,16))\n",
    "    plt.yticks([x/100 for x in range(0,50,2)])"
   ]
  },
  {
   "cell_type": "code",
   "execution_count": null,
   "metadata": {},
   "outputs": [],
   "source": []
  }
 ],
 "metadata": {
  "kernelspec": {
   "display_name": "Python 3.9.13 64-bit (microsoft store)",
   "language": "python",
   "name": "python3"
  },
  "language_info": {
   "codemirror_mode": {
    "name": "ipython",
    "version": 3
   },
   "file_extension": ".py",
   "mimetype": "text/x-python",
   "name": "python",
   "nbconvert_exporter": "python",
   "pygments_lexer": "ipython3",
   "version": "3.9.13"
  },
  "orig_nbformat": 4,
  "vscode": {
   "interpreter": {
    "hash": "8dd6c597a8792c9ccfb7150262fecf4787dd3bb8fdd1b3a793a20b754922f4d4"
   }
  }
 },
 "nbformat": 4,
 "nbformat_minor": 2
}
