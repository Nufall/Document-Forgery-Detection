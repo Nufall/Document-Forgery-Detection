{
 "cells": [
  {
   "cell_type": "code",
   "execution_count": 7,
   "metadata": {},
   "outputs": [],
   "source": [
    "import os\n",
    "import numpy as np\n",
    "import tensorflow as tf\n",
    "from tensorflow import keras\n",
    "import matplotlib.pyplot as plt\n",
    "from keras import layers, utils, models, callbacks as cb\n",
    "from sklearn.metrics import plot_confusion_matrix\n",
    "from sklearn.metrics import ConfusionMatrixDisplay, confusion_matrix"
   ]
  },
  {
   "cell_type": "code",
   "execution_count": 8,
   "metadata": {},
   "outputs": [],
   "source": [
    "model: keras.Model = models.load_model(r'E:\\University\\Semester 6\\Grad\\forgery detection\\forgery detection neural network\\datasets\\midv-2020-scanned\\experiment 2\\tuned.h5') \n",
    "# plt.style.use('dark_background')"
   ]
  },
  {
   "cell_type": "code",
   "execution_count": 9,
   "metadata": {},
   "outputs": [],
   "source": [
    "to_bin = lambda y: 0 if (1 - y) > y else 1\n",
    "batch_size = 32\n",
    "image_size = (671, 471)\n",
    "\n",
    "def make_eval_matrix(valpath):\n",
    "    actual = []\n",
    "    predictions = []\n",
    "\n",
    "    valds = tf.keras.preprocessing.image_dataset_from_directory(\n",
    "        valpath,\n",
    "        image_size=image_size,\n",
    "        batch_size=None,\n",
    "        labels=\"inferred\",\n",
    "        class_names=[\"forged\", \"genuine\"],\n",
    "        label_mode=\"binary\"\n",
    "    )\n",
    "\n",
    "    for x, y in valds:\n",
    "        x = np.expand_dims(x, axis=0)\n",
    "        p = model(x)\n",
    "        predictions.append(p.numpy()[0][0])\n",
    "        actual.append(y.numpy()[0])\n",
    "\n",
    "     \n",
    "\n",
    "        \n",
    "    evaluation = model.evaluate(valds.batch(1), return_dict=True)\n",
    "\n",
    "    actual = np.array([to_bin(y) for y in actual])\n",
    "    predictions = np.array([to_bin(y) for y in predictions])\n",
    "\n",
    "    # matrix = tf.math.confusion_matrix(actual, predictions, num_classes=2)\n",
    "    cm = ConfusionMatrixDisplay.from_predictions(actual, predictions, display_labels=[\"forged\", \"genuine\"],cmap=plt.cm.Blues)\n",
    "    \n",
    "    try:\n",
    "        assert np.all(np.equal(actual, predictions))\n",
    "    except AssertionError:\n",
    "        # print(f'{valpath=}')\n",
    "        # print(f'{actual=}')\n",
    "        # print(f'{predictions=}')\n",
    "        pass\n",
    "    finally:\n",
    "        return cm,evaluation['binary_accuracy']"
   ]
  },
  {
   "cell_type": "code",
   "execution_count": 10,
   "metadata": {},
   "outputs": [
    {
     "name": "stdout",
     "output_type": "stream",
     "text": [
      "E:\\University\\Semester 6\\Grad\\forgery detection\\forgery detection neural network\\datasets\\midv-2020-scanned\\experiment 2\n",
      "Found 180 files belonging to 2 classes.\n",
      "180/180 [==============================] - 7s 38ms/step - loss: 1.0564 - binary_accuracy: 0.9500 - recall_4: 0.9000 - precision_4: 1.0000\n",
      "CNN scored 95.00% on E:\\University\\Semester 6\\Grad\\forgery detection\\forgery detection neural network\\datasets\\midv-2020-scanned\\experiment 2\n",
      "\n"
     ]
    },
    {
     "data": {
      "image/png": "[encoded data removed]",
      "text/plain": [
       "<Figure size 432x288 with 2 Axes>"
      ]
     },
     "metadata": {
      "needs_background": "light"
     },
     "output_type": "display_data"
    }
   ],
   "source": [
    "root = os.getcwd()\n",
    "logroot = os.path.join(root,'datasets','midv-2020-scanned','experiment 2' ,'logs', 'models')\n",
    "root = os.path.join(root, 'datasets', 'midv-2020-scanned')\n",
    "# print(logroot)\n",
    "for doctype in [(r'E:\\University\\Semester 6\\Grad\\forgery detection\\forgery detection neural network\\datasets\\midv-2020-scanned\\experiment 2')]:\n",
    "    outpath = os.path.join(r'E:\\University\\Semester 6\\Grad\\forgery detection\\forgery detection neural network\\datasets\\midv-2020-scanned\\experiment 2','evaluation_matrix_cnn.png')\n",
    "    valpath = os.path.join(doctype, 'validation')\n",
    "    print(doctype)\n",
    "    logpath = os.path.join(logroot, 'cnn.txt')\n",
    "\n",
    "\n",
    "\n",
    "\n",
    "    cm , eval= make_eval_matrix(valpath)\n",
    "    cm.figure_.savefig(outpath)\n",
    "    print(f'CNN scored {eval:.2%} on {doctype}\\n')\n",
    "   \n"
   ]
  },
  {
   "cell_type": "code",
   "execution_count": 11,
   "metadata": {},
   "outputs": [],
   "source": [
    "# image_size = (671, 471)\n",
    "# batch_size = 16\n",
    "\n",
    "# def make_eval_matrix(val_path, doctype: str):\n",
    "#     val = tf.keras.preprocessing.image_dataset_from_directory(\n",
    "#         val_path,\n",
    "#         image_size=image_size,\n",
    "#         batch_size=1,\n",
    "#         labels=\"inferred\",\n",
    "#         class_names=[\"forged\", \"genuine\"],\n",
    "#         label_mode=\"binary\",\n",
    "#         shuffle=False\n",
    "#     )\n",
    "    \n",
    "#     yytest = []\n",
    "#     yypred = []\n",
    "\n",
    "#     for xtest, ytest in val:\n",
    "#         ypred = model(xtest)\n",
    "\n",
    "#         yytest.append(ytest[0][0].numpy())\n",
    "#         yypred.append(ypred[0][0].numpy())\n",
    "\n",
    "#         # print(f'{ypred[0][0].numpy()=}, {ytest[0][0].numpy()=}')\n",
    "    \n",
    "#     evaluation = model.evaluate(val, return_dict=True)\n",
    "#     print(f'{doctype=}')\n",
    "#     print(f'{evaluation=}')\n",
    "#     print(f'{yytest=}')\n",
    "#     print(f'{yypred=}')\n",
    "    \n",
    "#     # yypred = np.array([0 if (1 - y) > y else 1 for y in yytest], dtype=np.int32)\n",
    "#     result =  confusion_matrix(yytest, yypred)\n",
    "    \n",
    "#     return  evaluation"
   ]
  },
  {
   "cell_type": "code",
   "execution_count": 12,
   "metadata": {},
   "outputs": [],
   "source": [
    "# root = os.getcwd()\n",
    "# logroot = os.path.join(root, 'logs', 'models')\n",
    "# root = os.path.join(root, 'datasets', 'midv-2020')\n",
    "\n",
    "# i = 0 \n",
    "# for doctype in os.listdir(root):\n",
    "#     if i < 5: i += 1; continue\n",
    "#     # macOS places these everywhere, just ignore them.\n",
    "#     if doctype == '.DS_Store': continue\n",
    "\n",
    "#     docpath = os.path.join(root, doctype)\n",
    "#     templatepath = os.path.join(docpath, 'base_template.bmp')\n",
    "#     outpath = os.path.join(docpath, 'evaluation_matrix.png')\n",
    "#     valpath = os.path.join(docpath, 'validation')\n",
    "#     logpath = os.path.join(logroot, 'cnn.txt')\n",
    "#     print(docpath)\n",
    "#     try:\n",
    "#         matrix, evaluation = make_eval_matrix(valpath, doctype)\n",
    "#         # accuracy = evaluation['binary_accuracy']\n",
    "#     except Exception as e:\n",
    "#         print(f'Failed on {doctype}')\n",
    "#         print(e)\n",
    "#         pass\n"
   ]
  }
 ],
 "metadata": {
  "kernelspec": {
   "display_name": "Python 3.9.13 64-bit (microsoft store)",
   "language": "python",
   "name": "python3"
  },
  "language_info": {
   "codemirror_mode": {
    "name": "ipython",
    "version": 3
   },
   "file_extension": ".py",
   "mimetype": "text/x-python",
   "name": "python",
   "nbconvert_exporter": "python",
   "pygments_lexer": "ipython3",
   "version": "3.9.13"
  },
  "orig_nbformat": 4,
  "vscode": {
   "interpreter": {
    "hash": "8dd6c597a8792c9ccfb7150262fecf4787dd3bb8fdd1b3a793a20b754922f4d4"
   }
  }
 },
 "nbformat": 4,
 "nbformat_minor": 2
}
