{
 "cells": [
  {
   "cell_type": "code",
   "execution_count": 3,
   "metadata": {},
   "outputs": [],
   "source": [
    "import os\n",
    "from PIL import Image\n",
    "from random import randint\n",
    "\n",
    "OUTPUT_SIZE = (2480, 3507)\n",
    "DOCUMENT_SIZE = (2167 // 2, 1360 // 2)\n",
    "\n",
    "def augment(inpath: str) -> Image.Image:\n",
    "    with Image.open(inpath) as img:\n",
    "        out = Image.new(mode=\"RGB\", size=OUTPUT_SIZE, color=\"white\")\n",
    "        img = img.resize(DOCUMENT_SIZE)\n",
    "        angle = randint(0, 360)\n",
    "\n",
    "        x = randint(DOCUMENT_SIZE[0] + 100, OUTPUT_SIZE[0] - DOCUMENT_SIZE[0])\n",
    "        y = randint(DOCUMENT_SIZE[0] + 100, OUTPUT_SIZE[1] - DOCUMENT_SIZE[0])\n",
    "\n",
    "        out.paste(img, (x, y))\n",
    "        out = out.rotate(\n",
    "            angle,\n",
    "            expand=False,\n",
    "            fillcolor='white'\n",
    "        )\n",
    "\n",
    "        return out\n",
    "\n",
    "aligned_root = os.path.join(os.getcwd(), 'datasets', 'midv-2020')\n",
    "unaligned_root = os.path.join(os.getcwd(), 'datasets', 'midv-2020-scanned')\n",
    "\n",
    "for doctype in os.listdir(aligned_root):\n",
    "    aligned_docpath = os.path.join(aligned_root, doctype)\n",
    "    unaligned_docpath = os.path.join(unaligned_root, doctype)\n",
    "\n",
    "    aligned_forgedpath = os.path.join(aligned_docpath, 'original_forged')\n",
    "    unaligned_forgedpath = os.path.join(unaligned_docpath, 'aligned forgeries')\n",
    "\n",
    "    if not os.path.isdir(unaligned_forgedpath):\n",
    "        os.mkdir(unaligned_forgedpath)\n",
    "\n",
    "    for item in os.listdir(aligned_forgedpath):\n",
    "        for i in range(0, 5):\n",
    "            itempath = os.path.join(aligned_forgedpath, item)\n",
    "            outpath = os.path.join(unaligned_forgedpath, f'{item}_{i}.bmp')\n",
    "            result = augment(itempath)\n",
    "            result.save(outpath, bitmap_format='bmp')\n"
   ]
  }
 ],
 "metadata": {
  "kernelspec": {
   "display_name": "Python 3.9.13 64-bit (microsoft store)",
   "language": "python",
   "name": "python3"
  },
  "language_info": {
   "codemirror_mode": {
    "name": "ipython",
    "version": 3
   },
   "file_extension": ".py",
   "mimetype": "text/x-python",
   "name": "python",
   "nbconvert_exporter": "python",
   "pygments_lexer": "ipython3",
   "version": "3.9.13"
  },
  "orig_nbformat": 4,
  "vscode": {
   "interpreter": {
    "hash": "8dd6c597a8792c9ccfb7150262fecf4787dd3bb8fdd1b3a793a20b754922f4d4"
   }
  }
 },
 "nbformat": 4,
 "nbformat_minor": 2
}
